{
 "cells": [
  {
   "cell_type": "code",
   "execution_count": null,
   "metadata": {},
   "outputs": [],
   "source": [
    "! pip install mysql-connector-python"
   ]
  },
  {
   "cell_type": "code",
   "execution_count": 3,
   "metadata": {},
   "outputs": [],
   "source": [
    "import pandas as pd\n",
    "from sqlalchemy import create_engine"
   ]
  },
  {
   "cell_type": "code",
   "execution_count": 3,
   "metadata": {},
   "outputs": [],
   "source": [
    "# MySQL database configuration\n",
    "db_config = {\n",
    "    'user': 'root',\n",
    "    'password': \"fakepassword\", # Enter the password of the workbench\n",
    "    'host': 'localhost',\n",
    "    'database': \"music_project\", # Enter your schema name\n",
    "    'port': 3306  # Change the port if necessary\n",
    "}\n",
    "\n",
    "# Create a MySQL engine\n",
    "engine = create_engine(f\"mysql+mysqlconnector://{db_config['user']}:{db_config['password']}@{db_config['host']}:{db_config['port']}/{db_config['database']}\")\n",
    "\n",
    "files=[\"dim_match_summary\",\"dim_players\",\"fact_bating_summary\",\"fact_bowling_summary\"] #Enter Your csv file name\n",
    "for file in files:\n",
    "    csv_file_path=f\"D:SQL_Music_Project\\{file}.csv\" #Enter your File path\n",
    "\n",
    "    # Read CSV file into a pandas DataFrame with explicit encoding\n",
    "    try:\n",
    "        df = pd.read_csv(csv_file_path, encoding='utf-8')\n",
    "    except UnicodeDecodeError:\n",
    "        df = pd.read_csv(csv_file_path, encoding='latin1')\n",
    "\n",
    "    # Upload the DataFrame to MySQL\n",
    "    df.to_sql(name=file, con=engine, if_exists='replace', index=False)\n",
    "\n",
    "    # Replace 'your_table_name' with the actual name you want for your table\n",
    "    # 'replace' will replace the table if it already exists. You can use 'append' or 'fail' as well.\n",
    "    # 'index=False' avoids writing DataFrame index as a column in the MySQL table\n"
   ]
  }
 ],
 "metadata": {
  "kernelspec": {
   "display_name": "Python 3",
   "language": "python",
   "name": "python3"
  },
  "language_info": {
   "codemirror_mode": {
    "name": "ipython",
    "version": 3
   },
   "file_extension": ".py",
   "mimetype": "text/x-python",
   "name": "python",
   "nbconvert_exporter": "python",
   "pygments_lexer": "ipython3",
   "version": "3.11.4"
  }
 },
 "nbformat": 4,
 "nbformat_minor": 2
}
